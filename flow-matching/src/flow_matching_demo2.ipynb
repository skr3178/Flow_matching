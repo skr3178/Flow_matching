{
 "cells": [
  {
   "cell_type": "markdown",
   "metadata": {},
   "source": [
    "# This notebook demonstrates the Flow Matching process interactively."
   ]
  },
  {
   "cell_type": "code",
   "execution_count": 1,
   "metadata": {},
   "outputs": [
    {
     "name": "stdout",
     "output_type": "stream",
     "text": [
      "/home/skr/Downloads/flow-matching/src\n"
     ]
    }
   ],
   "source": [
    "!pwd"
   ]
  },
  {
   "cell_type": "code",
   "execution_count": 3,
   "metadata": {},
   "outputs": [],
   "source": [
    "import torch\n",
    "import numpy as np\n",
    "import matplotlib.pyplot as plt\n",
    "import sys\n",
    "import os\n",
    "\n",
    "# Add the parent directory to the path so we can import from src\n",
    "# In Jupyter notebooks, we need to get the current working directory\n",
    "current_dir = os.getcwd()\n",
    "parent_dir = os.path.dirname(current_dir)\n",
    "sys.path.append(parent_dir)\n",
    "\n",
    "# Change to the parent directory so images are saved in the right place\n",
    "os.chdir(parent_dir)\n",
    "\n",
    "from src.flow_matching import FlowMatching\n",
    "from src.utils import generate_dynamic_conditioning\n",
    "from src.visualization import visualize_flow_matching\n",
    "\n",
    "# Initialize model and data\n",
    "model = FlowMatching()\n",
    "target_data = model.generate_two_circles_targets()\n",
    "\n",
    "# Visualize the initial vector field\n",
    "visualize_flow_matching(model, target_data, step=0)"
   ]
  },
  {
   "cell_type": "code",
   "execution_count": 4,
   "metadata": {},
   "outputs": [
    {
     "name": "stderr",
     "output_type": "stream",
     "text": [
      " 49%|████▉     | 246/500 [00:00<00:00, 802.63it/s]"
     ]
    },
    {
     "name": "stdout",
     "output_type": "stream",
     "text": [
      "Step 100, Loss: 2.5866\n",
      "Step 200, Loss: 2.0536\n",
      "Step 300, Loss: 2.2645\n"
     ]
    },
    {
     "name": "stderr",
     "output_type": "stream",
     "text": [
      "100%|██████████| 500/500 [00:00<00:00, 798.64it/s]"
     ]
    },
    {
     "name": "stdout",
     "output_type": "stream",
     "text": [
      "Step 400, Loss: 2.2927\n",
      "Step 500, Loss: 2.3778\n"
     ]
    },
    {
     "name": "stderr",
     "output_type": "stream",
     "text": [
      "\n"
     ]
    }
   ],
   "source": [
    "# Train the model for a few steps and visualize progress\n",
    "from tqdm import tqdm\n",
    "\n",
    "# Training loop\n",
    "n_steps = 500\n",
    "for step in tqdm(range(n_steps)):\n",
    "    # Simulate dynamic conditioning that changes over time\n",
    "    conditioning_info = generate_dynamic_conditioning(step, n_steps)\n",
    "    loss = model.train_step(target_data, conditioning_info)\n",
    "    \n",
    "    if (step + 1) % 100 == 0:\n",
    "        print(f\"Step {step + 1}, Loss: {loss:.4f}\")\n",
    "        visualize_flow_matching(model, target_data, step + 1)"
   ]
  },
  {
   "cell_type": "code",
   "execution_count": 5,
   "metadata": {},
   "outputs": [
    {
     "name": "stdout",
     "output_type": "stream",
     "text": [
      "Animation saved as 'images/flow_matching_demo.gif'\n"
     ]
    },
    {
     "data": {
      "image/png": "[encoded data removed]",
      "text/plain": [
       "<Figure size 600x600 with 1 Axes>"
      ]
     },
     "metadata": {},
     "output_type": "display_data"
    }
   ],
   "source": [
    "# Create an animation showing the flow\n",
    "from src.visualization import visualize_flow\n",
    "\n",
    "# Generate animation\n",
    "ani = visualize_flow(model, target_data, generate_dynamic_conditioning(n_steps - 1, n_steps))\n",
    "ani.save('images/flow_matching_demo.gif', writer='pillow')\n",
    "print(\"Animation saved as 'images/flow_matching_demo.gif'\")\n"
   ]
  },
  {
   "cell_type": "code",
   "execution_count": null,
   "metadata": {},
   "outputs": [],
   "source": []
  }
 ],
 "metadata": {
  "kernelspec": {
   "display_name": "flow-matching",
   "language": "python",
   "name": "python3"
  },
  "language_info": {
   "codemirror_mode": {
    "name": "ipython",
    "version": 3
   },
   "file_extension": ".py",
   "mimetype": "text/x-python",
   "name": "python",
   "nbconvert_exporter": "python",
   "pygments_lexer": "ipython3",
   "version": "3.9.24"
  }
 },
 "nbformat": 4,
 "nbformat_minor": 2
}
